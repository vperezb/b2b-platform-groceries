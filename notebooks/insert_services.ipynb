{
 "cells": [
  {
   "cell_type": "code",
   "execution_count": 1,
   "metadata": {},
   "outputs": [],
   "source": [
    "import datetime\n",
    "import functools\n",
    "import io\n",
    "import json\n",
    "import logging\n",
    "import os\n",
    "import urllib.parse\n",
    "import uuid\n",
    "\n",
    "import pandas as pd\n",
    "import pytz\n",
    "import requests\n",
    "from google.cloud import datastore\n",
    "from bs4 import BeautifulSoup\n",
    "import flask\n",
    "\n",
    "os.chdir(r'C:\\Users\\V\\Documents\\almarcat\\gitprojects\\almarcat')\n",
    "\n",
    "\n",
    "from modules import store_manager\n",
    "\n",
    "\n",
    "# Services Storage\n",
    "\n",
    "_google_cloud_project_name = \"almarcat\"\n",
    "\n",
    "\n",
    "# Private API\n",
    " \n",
    "\n",
    "@functools.lru_cache()\n",
    "def _get_google_datastore_client():\n",
    "    return datastore.Client(_google_cloud_project_name)"
   ]
  },
  {
   "cell_type": "code",
   "execution_count": 29,
   "metadata": {},
   "outputs": [],
   "source": [
    "google_datastore_client = _get_google_datastore_client()\n",
    "q = datastore.Entity(key=google_datastore_client.key('order', 5680529164730368)\n",
    ")"
   ]
  },
  {
   "cell_type": "code",
   "execution_count": 32,
   "metadata": {},
   "outputs": [
    {
     "data": {
      "text/plain": [
       "[<Entity('order', 5680529164730368) {'comment': '', 'amount_to_pay': 261.3, 'ordered_by_store_id': 'b0fd7ba60d9e49759839e5f4cfa41b61', 'id': 'a65aa1c9408b4f06be556ae1e2805130', 'order_by_user': 'victor.perez.berruezo@gmail.com', 'status': 'ordered', 'ordered_to_store_id': 'b0fd7ba60d9e49759839e5f4cfa41b61', 'item_lines': [<Entity {'total': 260.0, 'image': 'https://storage.googleapis.com/almarcat-static/item_image/115e28c684b94c1c934252cf7a769907.jpg', 'qty': 200, 'title': 'Enciam fulla de roure', 'price': 1.3, 'item_id': '234a6a8e7237443e8b1ba7199ef6069e'}>, <Entity {'qty': 1, 'image': 'https://storage.googleapis.com/almarcat-static/item_image/deb22718df1143e9a1c96c8d53f51514.png', 'item_id': 'ab453da18ed649da99602994d8f673ea', 'price': 1.3, 'total': 1.3, 'title': 'Bleda llengua de bou'}>], 'updated_at': DatetimeWithNanoseconds(2021, 5, 30, 9, 11, 21, 326883, tzinfo=datetime.timezone.utc), 'created_at': DatetimeWithNanoseconds(2021, 5, 30, 9, 11, 21, 326886, tzinfo=datetime.timezone.utc)}>]"
      ]
     },
     "execution_count": 32,
     "metadata": {},
     "output_type": "execute_result"
    }
   ],
   "source": [
    "\n",
    "order_id = 'a65aa1c9408b4f06be556ae1e2805130'\n",
    "q = google_datastore_client.query(kind='order')\n",
    "q.add_filter('id', '=', order_id)\n",
    "list(q.fetch(limit=1))"
   ]
  },
  {
   "cell_type": "code",
   "execution_count": 30,
   "metadata": {},
   "outputs": [
    {
     "data": {
      "text/plain": [
       "<Entity('order', 5680529164730368) {}>"
      ]
     },
     "execution_count": 30,
     "metadata": {},
     "output_type": "execute_result"
    }
   ],
   "source": [
    "q"
   ]
  },
  {
   "cell_type": "code",
   "execution_count": 10,
   "metadata": {},
   "outputs": [
    {
     "data": {
      "text/plain": [
       "[<Entity('Store', '017cbd64f23b44b996429fc1ea8a77c3', 'item', 5675594515742720) {'aal1': 'Cataluña', 'created_by': 'victor.perez@almarcat.com', 'images': ['https://storage.googleapis.com/almarcat-static/item_image/5c9db97fb5fe4fe0a3cc9baffa7a6b1c.png'], 'price_context': 'kg', 'updated_at': DatetimeWithNanoseconds(2021, 5, 24, 15, 25, 17, 455434, tzinfo=datetime.timezone.utc), 'price_now': '2.00', 'qty': '', 'country': 'ES', 'created_at': DatetimeWithNanoseconds(2021, 5, 24, 15, 25, 17, 455434, tzinfo=datetime.timezone.utc), 'aal2': 'Barcelona', 'title': 'Taronjes madures petites', 'locality': 'Mataró', 'id': '41560571b36e4cba88d681f9d483ba3e', 'external_store_info': <Entity {'code_name': 'lamevabotiga', 'name': 'La meva botiga', 'profile_image': 'https://storage.googleapis.com/almarcat-static/store_profile_image/d317e5c994204bf3be4790ee9285c872.png'}>, 'is_enabled': True}>]"
      ]
     },
     "execution_count": 10,
     "metadata": {},
     "output_type": "execute_result"
    }
   ],
   "source": []
  },
  {
   "cell_type": "code",
   "execution_count": 16,
   "metadata": {},
   "outputs": [
    {
     "data": {
      "text/plain": [
       "[<Entity('store', 5632499082330112) {'code_name': 'dasdsa', 'aal2': None, 'id': 'b17bcb6d6dcd4994b44c97e4e8930dac', 'has_take_away': False, 'mail': '', 'headline': '', 'profile_image': 'https://img.utdstc.com/icons/almarcat-android.png:300', 'lat': '', 'phone_country_prefix': '', 'phone': '', 'is_group': False, 'geocode': <Entity {'results': [], 'status': 'INVALID_REQUEST', 'error_message': \"Invalid request. Missing the 'address', 'components', 'latlng' or 'place_id' parameter.\"}>, 'description': '', 'lng': '', 'has_online_store': False, 'schedules': '', 'has_whatsapp': False, 'created_by': 'victor.perez.berruezo@gmail.com', 'adress': '', 'primary_color': '#000000', 'locality': None, 'hash': '3cbdfe53d8fa491ea9714bd26d2dcb96', 'header_image': 'https://images.pexels.com/photos/264507/pexels-photo-264507.jpeg?auto=compress&cs=tinysrgb&dpr=3&h=750&w=1260', 'category_code_name': '', 'primary_action': 'catalog', 'aal1': None, 'market': None, 'created_at': DatetimeWithNanoseconds(2021, 5, 23, 13, 11, 15, 362765, tzinfo=datetime.timezone.utc), 'name': 'asd', 'has_delivery': False, 'country': None, 'web_page': ''}>]"
      ]
     },
     "execution_count": 16,
     "metadata": {},
     "output_type": "execute_result"
    }
   ],
   "source": [
    "store_manager._load_my_stores_from_google_datastore('victor.perez.berruezo@gmail.com')"
   ]
  },
  {
   "cell_type": "code",
   "execution_count": 5,
   "metadata": {},
   "outputs": [],
   "source": [
    "google_datastore_client = _get_google_datastore_client()\n",
    "q = google_datastore_client.query(kind=\"store\")\n",
    "q.add_filter(\"code_name\", \"=\", 'solbenmoll')\n",
    "results = q.fetch(limit=1)"
   ]
  },
  {
   "cell_type": "code",
   "execution_count": 7,
   "metadata": {},
   "outputs": [
    {
     "data": {
      "text/plain": [
       "<Entity('store', 5642368648740864) {'lat': '41.5211753', 'aal2': 'Barcelona', 'category_code_name': '', 'country': 'ES', 'phone': '', 'aal1': 'Cataluña', 'hash': '2af9bcf39cde4295b4d63866fae0ff09', 'name': 'Sol Ben Moll', 'lng': '2.4060513', 'has_take_away': False, 'locality': 'Cabrera de Mar', 'code_name': 'solbenmoll', 'has_online_store': False, 'description': '', 'id': '30a9eb758ba24a65a42ecad8d8a6b64a', 'profile_image': 'https://storage.googleapis.com/almarcat-static/store_profile_image/1e32c9614a85446b834931bb20a73a74.jpg', 'geocode': <Entity {'status': 'OK', 'results': [<Entity {'place_id': 'ChIJR4IMdzC0pBIRU1osRTcwr4U', 'address_components': [<Entity {'long_name': 'Cabrera de Mar', 'short_name': 'Cabrera de Mar', 'types': ['locality', 'political']}>, <Entity {'types': ['administrative_area_level_2', 'political'], 'short_name': 'B', 'long_name': 'Barcelona'}>, <Entity {'short_name': 'CT', 'long_name': 'Cataluña', 'types': ['administrative_area_level_1', 'political']}>, <Entity {'short_name': 'ES', 'long_name': 'España', 'types': ['country', 'political']}>, <Entity {'types': ['postal_code'], 'short_name': '08349', 'long_name': '08349'}>], 'types': ['locality', 'political'], 'formatted_address': '08349 Cabrera de Mar, Barcelona, España', 'geometry': <Entity {'bounds': <Entity {'southwest': <Entity {'lng': 2.3858469, 'lat': 41.5065514}>, 'northeast': <Entity {'lng': 2.4241497, 'lat': 41.5356532}>}>, 'viewport': <Entity {'northeast': <Entity {'lat': 41.5356532, 'lng': 2.4241497}>, 'southwest': <Entity {'lat': 41.5065514, 'lng': 2.3858469}>}>, 'location': <Entity {'lat': 41.5280545, 'lng': 2.3929959}>, 'location_type': 'APPROXIMATE'}>}>]}>, 'schedules': 'HIOHOIA', 'created_at': DatetimeWithNanoseconds(2021, 5, 23, 13, 30, 35, 497402, tzinfo=datetime.timezone.utc), 'is_group': False, 'has_whatsapp': False, 'has_delivery': False, 'primary_color': '#000000', 'market': 'Barcelona', 'web_page': 'https://www.solbenmoll.com', 'mail': '', 'created_by': 'victor.perez.berruezo@gmail.com', 'header_image': 'https://images.pexels.com/photos/264507/pexels-photo-264507.jpeg?auto=compress&cs=tinysrgb&dpr=3&h=750&w=1260', 'phone_country_prefix': '', 'primary_action': 'catalog', 'adress': 'cabrera de mar, catalunya', 'headline': 'aSDASDASDASDADA'}>"
      ]
     },
     "execution_count": 7,
     "metadata": {},
     "output_type": "execute_result"
    }
   ],
   "source": [
    "next(iter(results))"
   ]
  },
  {
   "cell_type": "code",
   "execution_count": 15,
   "metadata": {},
   "outputs": [],
   "source": [
    "google_datastore_client = _get_google_datastore_client()\n",
    "\n",
    "entity = datastore.Entity(key=google_datastore_client.key('store'))\n",
    "\n",
    "data_to_put = dict(\n",
    "    id=uuid.uuid4().hex,\n",
    "    updated_at=datetime.datetime.utcnow(),\n",
    "    created_at=datetime.datetime.utcnow(),\n",
    ")\n",
    "\n",
    "entity.update(data_to_put)\n",
    "\n",
    "google_datastore_client.put(entity)\n"
   ]
  },
  {
   "cell_type": "code",
   "execution_count": 11,
   "metadata": {},
   "outputs": [
    {
     "ename": "AttributeError",
     "evalue": "'str' object has no attribute '_flat_path'",
     "output_type": "error",
     "traceback": [
      "\u001b[1;31m---------------------------------------------------------------------------\u001b[0m",
      "\u001b[1;31mAttributeError\u001b[0m                            Traceback (most recent call last)",
      "\u001b[1;32mc:\\users\\v\\documents\\almarcat\\gitprojects\\almarcat\\venv\\lib\\site-packages\\IPython\\core\\formatters.py\u001b[0m in \u001b[0;36m__call__\u001b[1;34m(self, obj)\u001b[0m\n\u001b[0;32m    700\u001b[0m                 \u001b[0mtype_pprinters\u001b[0m\u001b[1;33m=\u001b[0m\u001b[0mself\u001b[0m\u001b[1;33m.\u001b[0m\u001b[0mtype_printers\u001b[0m\u001b[1;33m,\u001b[0m\u001b[1;33m\u001b[0m\u001b[1;33m\u001b[0m\u001b[0m\n\u001b[0;32m    701\u001b[0m                 deferred_pprinters=self.deferred_printers)\n\u001b[1;32m--> 702\u001b[1;33m             \u001b[0mprinter\u001b[0m\u001b[1;33m.\u001b[0m\u001b[0mpretty\u001b[0m\u001b[1;33m(\u001b[0m\u001b[0mobj\u001b[0m\u001b[1;33m)\u001b[0m\u001b[1;33m\u001b[0m\u001b[1;33m\u001b[0m\u001b[0m\n\u001b[0m\u001b[0;32m    703\u001b[0m             \u001b[0mprinter\u001b[0m\u001b[1;33m.\u001b[0m\u001b[0mflush\u001b[0m\u001b[1;33m(\u001b[0m\u001b[1;33m)\u001b[0m\u001b[1;33m\u001b[0m\u001b[1;33m\u001b[0m\u001b[0m\n\u001b[0;32m    704\u001b[0m             \u001b[1;32mreturn\u001b[0m \u001b[0mstream\u001b[0m\u001b[1;33m.\u001b[0m\u001b[0mgetvalue\u001b[0m\u001b[1;33m(\u001b[0m\u001b[1;33m)\u001b[0m\u001b[1;33m\u001b[0m\u001b[1;33m\u001b[0m\u001b[0m\n",
      "\u001b[1;32mc:\\users\\v\\documents\\almarcat\\gitprojects\\almarcat\\venv\\lib\\site-packages\\IPython\\lib\\pretty.py\u001b[0m in \u001b[0;36mpretty\u001b[1;34m(self, obj)\u001b[0m\n\u001b[0;32m    392\u001b[0m                         \u001b[1;32mif\u001b[0m \u001b[0mcls\u001b[0m \u001b[1;32mis\u001b[0m \u001b[1;32mnot\u001b[0m \u001b[0mobject\u001b[0m\u001b[0;31m \u001b[0m\u001b[0;31m\\\u001b[0m\u001b[1;33m\u001b[0m\u001b[1;33m\u001b[0m\u001b[0m\n\u001b[0;32m    393\u001b[0m                                 \u001b[1;32mand\u001b[0m \u001b[0mcallable\u001b[0m\u001b[1;33m(\u001b[0m\u001b[0mcls\u001b[0m\u001b[1;33m.\u001b[0m\u001b[0m__dict__\u001b[0m\u001b[1;33m.\u001b[0m\u001b[0mget\u001b[0m\u001b[1;33m(\u001b[0m\u001b[1;34m'__repr__'\u001b[0m\u001b[1;33m)\u001b[0m\u001b[1;33m)\u001b[0m\u001b[1;33m:\u001b[0m\u001b[1;33m\u001b[0m\u001b[1;33m\u001b[0m\u001b[0m\n\u001b[1;32m--> 394\u001b[1;33m                             \u001b[1;32mreturn\u001b[0m \u001b[0m_repr_pprint\u001b[0m\u001b[1;33m(\u001b[0m\u001b[0mobj\u001b[0m\u001b[1;33m,\u001b[0m \u001b[0mself\u001b[0m\u001b[1;33m,\u001b[0m \u001b[0mcycle\u001b[0m\u001b[1;33m)\u001b[0m\u001b[1;33m\u001b[0m\u001b[1;33m\u001b[0m\u001b[0m\n\u001b[0m\u001b[0;32m    395\u001b[0m \u001b[1;33m\u001b[0m\u001b[0m\n\u001b[0;32m    396\u001b[0m             \u001b[1;32mreturn\u001b[0m \u001b[0m_default_pprint\u001b[0m\u001b[1;33m(\u001b[0m\u001b[0mobj\u001b[0m\u001b[1;33m,\u001b[0m \u001b[0mself\u001b[0m\u001b[1;33m,\u001b[0m \u001b[0mcycle\u001b[0m\u001b[1;33m)\u001b[0m\u001b[1;33m\u001b[0m\u001b[1;33m\u001b[0m\u001b[0m\n",
      "\u001b[1;32mc:\\users\\v\\documents\\almarcat\\gitprojects\\almarcat\\venv\\lib\\site-packages\\IPython\\lib\\pretty.py\u001b[0m in \u001b[0;36m_repr_pprint\u001b[1;34m(obj, p, cycle)\u001b[0m\n\u001b[0;32m    698\u001b[0m     \u001b[1;34m\"\"\"A pprint that just redirects to the normal repr function.\"\"\"\u001b[0m\u001b[1;33m\u001b[0m\u001b[1;33m\u001b[0m\u001b[0m\n\u001b[0;32m    699\u001b[0m     \u001b[1;31m# Find newlines and replace them with p.break_()\u001b[0m\u001b[1;33m\u001b[0m\u001b[1;33m\u001b[0m\u001b[1;33m\u001b[0m\u001b[0m\n\u001b[1;32m--> 700\u001b[1;33m     \u001b[0moutput\u001b[0m \u001b[1;33m=\u001b[0m \u001b[0mrepr\u001b[0m\u001b[1;33m(\u001b[0m\u001b[0mobj\u001b[0m\u001b[1;33m)\u001b[0m\u001b[1;33m\u001b[0m\u001b[1;33m\u001b[0m\u001b[0m\n\u001b[0m\u001b[0;32m    701\u001b[0m     \u001b[0mlines\u001b[0m \u001b[1;33m=\u001b[0m \u001b[0moutput\u001b[0m\u001b[1;33m.\u001b[0m\u001b[0msplitlines\u001b[0m\u001b[1;33m(\u001b[0m\u001b[1;33m)\u001b[0m\u001b[1;33m\u001b[0m\u001b[1;33m\u001b[0m\u001b[0m\n\u001b[0;32m    702\u001b[0m     \u001b[1;32mwith\u001b[0m \u001b[0mp\u001b[0m\u001b[1;33m.\u001b[0m\u001b[0mgroup\u001b[0m\u001b[1;33m(\u001b[0m\u001b[1;33m)\u001b[0m\u001b[1;33m:\u001b[0m\u001b[1;33m\u001b[0m\u001b[1;33m\u001b[0m\u001b[0m\n",
      "\u001b[1;32mc:\\users\\v\\documents\\almarcat\\gitprojects\\almarcat\\venv\\lib\\site-packages\\google\\cloud\\datastore\\entity.py\u001b[0m in \u001b[0;36m__repr__\u001b[1;34m(self)\u001b[0m\n\u001b[0;32m    207\u001b[0m         \u001b[1;32mif\u001b[0m \u001b[0mself\u001b[0m\u001b[1;33m.\u001b[0m\u001b[0mkey\u001b[0m\u001b[1;33m:\u001b[0m\u001b[1;33m\u001b[0m\u001b[1;33m\u001b[0m\u001b[0m\n\u001b[0;32m    208\u001b[0m             return \"<Entity%s %s>\" % (\n\u001b[1;32m--> 209\u001b[1;33m                 \u001b[0mself\u001b[0m\u001b[1;33m.\u001b[0m\u001b[0mkey\u001b[0m\u001b[1;33m.\u001b[0m\u001b[0m_flat_path\u001b[0m\u001b[1;33m,\u001b[0m\u001b[1;33m\u001b[0m\u001b[1;33m\u001b[0m\u001b[0m\n\u001b[0m\u001b[0;32m    210\u001b[0m                 \u001b[0msuper\u001b[0m\u001b[1;33m(\u001b[0m\u001b[0mEntity\u001b[0m\u001b[1;33m,\u001b[0m \u001b[0mself\u001b[0m\u001b[1;33m)\u001b[0m\u001b[1;33m.\u001b[0m\u001b[0m__repr__\u001b[0m\u001b[1;33m(\u001b[0m\u001b[1;33m)\u001b[0m\u001b[1;33m,\u001b[0m\u001b[1;33m\u001b[0m\u001b[1;33m\u001b[0m\u001b[0m\n\u001b[0;32m    211\u001b[0m             )\n",
      "\u001b[1;31mAttributeError\u001b[0m: 'str' object has no attribute '_flat_path'"
     ]
    }
   ],
   "source": [
    "entity"
   ]
  },
  {
   "cell_type": "code",
   "execution_count": null,
   "metadata": {},
   "outputs": [],
   "source": []
  }
 ],
 "metadata": {
  "kernelspec": {
   "display_name": "Python 3",
   "language": "python",
   "name": "python3"
  },
  "language_info": {
   "codemirror_mode": {
    "name": "ipython",
    "version": 3
   },
   "file_extension": ".py",
   "mimetype": "text/x-python",
   "name": "python",
   "nbconvert_exporter": "python",
   "pygments_lexer": "ipython3",
   "version": "3.9.2"
  }
 },
 "nbformat": 4,
 "nbformat_minor": 4
}
